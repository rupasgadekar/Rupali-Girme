{
  "metadata": {
    "kernelspec": {
      "name": "python",
      "display_name": "Python (Pyodide)",
      "language": "python"
    },
    "language_info": {
      "codemirror_mode": {
        "name": "python",
        "version": 3
      },
      "file_extension": ".py",
      "mimetype": "text/x-python",
      "name": "python",
      "nbconvert_exporter": "python",
      "pygments_lexer": "ipython3",
      "version": "3.8"
    }
  },
  "nbformat_minor": 5,
  "nbformat": 4,
  "cells": [
    {
      "id": "6a9f15fa-14bd-43cc-a02f-c901976893b4",
      "cell_type": "markdown",
      "source": "# Healthcare",
      "metadata": {}
    },
    {
      "id": "3fd2aea6-52bd-4e53-a8d6-4ac7a41d8d80",
      "cell_type": "markdown",
      "source": "## Introduction\n",
      "metadata": {}
    },
    {
      "id": "c5751126-450e-44be-8b12-2deeef418f0f",
      "cell_type": "markdown",
      "source": "## Data Science Libraries\nNumpy \nPandas\nScikit-learn",
      "metadata": {}
    },
    {
      "id": "619a5c8b-2b32-493f-be75-633b547d5cab",
      "cell_type": "markdown",
      "source": "| Syntax      | Description |\n| ----------- | ----------- |\n| Header      | Title       |\n| Paragraph   | Text        |",
      "metadata": {}
    },
    {
      "id": "97ad91a9-c8bf-4431-8233-cf1ca92864fb",
      "cell_type": "code",
      "source": "print (2 * 3 + 5)",
      "metadata": {
        "trusted": true
      },
      "outputs": [
        {
          "name": "stdout",
          "output_type": "stream",
          "text": "11\n"
        }
      ],
      "execution_count": 1
    },
    {
      "id": "0c3a4ef4-00fd-46f0-8ab6-adeb3d89d7e3",
      "cell_type": "code",
      "source": "mins = 10\nhours = mins / 60\nprint (hours)",
      "metadata": {
        "trusted": true
      },
      "outputs": [
        {
          "name": "stdout",
          "output_type": "stream",
          "text": "0.16666666666666666\n"
        }
      ],
      "execution_count": 2
    },
    {
      "id": "ae815763-b83e-4987-b4c1-531531b0f8cf",
      "cell_type": "markdown",
      "source": "Author Name: Rupali Girme",
      "metadata": {}
    }
  ]
}